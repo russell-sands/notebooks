{
 "cells": [
  {
   "cell_type": "markdown",
   "metadata": {
    "papermill": {
     "duration": 0.008259,
     "end_time": "2021-08-05T19:30:48.94595",
     "exception": false,
     "start_time": "2021-08-05T19:30:48.937691",
     "status": "completed"
    },
    "tags": []
   },
   "source": [
    "## Monitor locations for impacting events\n"
   ]
  },
  {
   "cell_type": "markdown",
   "metadata": {
    "papermill": {
     "duration": 0.007301,
     "end_time": "2021-08-05T19:30:48.961976",
     "exception": false,
     "start_time": "2021-08-05T19:30:48.954675",
     "status": "completed"
    },
    "tags": []
   },
   "source": [
    "### Connect to the portal"
   ]
  },
  {
   "cell_type": "code",
   "execution_count": null,
   "metadata": {
    "execution": {
     "iopub.execute_input": "2021-08-05T19:30:48.980013Z",
     "iopub.status.busy": "2021-08-05T19:30:48.979421Z",
     "iopub.status.idle": "2021-08-05T19:30:53.971227Z",
     "shell.execute_reply": "2021-08-05T19:30:53.971846Z"
    },
    "papermill": {
     "duration": 5.003169,
     "end_time": "2021-08-05T19:30:53.972215",
     "exception": false,
     "start_time": "2021-08-05T19:30:48.969046",
     "status": "completed"
    },
    "tags": []
   },
   "outputs": [],
   "source": [
    "from arcgis.gis import GIS, Item\n",
    "from arcgis import features\n",
    "from arcgis.features import GeoAccessor, GeoSeriesAccessor\n",
    "gis = GIS(\"home\") # If running outside of an ArcGIS Notebook this will need to be changed"
   ]
  },
  {
   "cell_type": "markdown",
   "metadata": {
    "papermill": {
     "duration": 0.016325,
     "end_time": "2021-08-05T19:30:54.001103",
     "exception": false,
     "start_time": "2021-08-05T19:30:53.984778",
     "status": "completed"
    },
    "tags": []
   },
   "source": [
    "### Setup - These should be the only variables you need to change"
   ]
  },
  {
   "cell_type": "code",
   "execution_count": null,
   "metadata": {},
   "outputs": [],
   "source": [
    "# Ouptut Layer Name and Tag\n",
    "output_item_title = 'Example Output Name' \n",
    "output_item_uniqueness_tag = 'example.unique.id'\n",
    "\n",
    "# Item and layer IDs for the layer we are want to look for impacts to\n",
    "# In this case, its data center locations that we're ETL'ing from Salesforce\n",
    "monitor_item_id = ''\n",
    "monitor_layer_id = 0 # Replace with the id of the layer you want to monitor for impacts to\n",
    "\n",
    "# Item and layer IDs for the layer we want to check for impacts from\n",
    "# In this example case, its the \"Events ordered by size and severity\" layer from the Living Atlass / weather.gov\n",
    "impact_item_id = 'a6134ae01aad44c499d12feec782b386'\n",
    "impact_layer_id = 5"
   ]
  },
  {
   "cell_type": "markdown",
   "metadata": {},
   "source": [
    "#### Connect to the layers containing the locations we're monitoring and the data about what may be impacting them\n",
    "Also search the portal to see if a layer with the correct output name & uniqueness tag exits"
   ]
  },
  {
   "cell_type": "code",
   "execution_count": null,
   "metadata": {
    "execution": {
     "iopub.execute_input": "2021-08-05T19:30:54.061694Z",
     "iopub.status.busy": "2021-08-05T19:30:54.060864Z",
     "iopub.status.idle": "2021-08-05T19:30:55.179399Z",
     "shell.execute_reply": "2021-08-05T19:30:55.180059Z"
    },
    "papermill": {
     "duration": 1.144694,
     "end_time": "2021-08-05T19:30:55.180301",
     "exception": false,
     "start_time": "2021-08-05T19:30:54.035607",
     "status": "completed"
    },
    "tags": []
   },
   "outputs": [],
   "source": [
    "# What we want to monitor\n",
    "monitor_item = gis.content.get(monitor_item_id)\n",
    "monitor_layer = monitor_item.layers[monitor_layer_id]\n",
    "\n",
    "# What we want to look out for impacts from\n",
    "impact_item = gis.content.get(impact_item_id)\n",
    "impact_layer = impact_item.layers[impact_layer_id] # Get the \"Events ordered by size and severity\" layer\n",
    "\n",
    "# What we will write results to \n",
    "# - This returns a list of items of len 0 - inf, handled by the output writing function\n",
    "output_item_query = 'title:%s AND tags:%s' % (output_item_title, output_item_uniqueness_tag)\n",
    "output_item_check = gis.content.search(query=output_item_query)"
   ]
  },
  {
   "cell_type": "markdown",
   "metadata": {
    "execution": {
     "iopub.execute_input": "2021-08-05T12:01:34.956436Z",
     "iopub.status.busy": "2021-08-05T12:01:34.95593Z",
     "iopub.status.idle": "2021-08-05T12:01:34.958054Z",
     "shell.execute_reply": "2021-08-05T12:01:34.958427Z"
    },
    "papermill": {
     "duration": 0.005938,
     "end_time": "2021-08-05T19:31:08.1112",
     "exception": false,
     "start_time": "2021-08-05T19:31:08.105262",
     "status": "completed"
    },
    "tags": []
   },
   "source": [
    "#### Define functions that will be used if we are updating an existing output layer"
   ]
  },
  {
   "cell_type": "code",
   "execution_count": null,
   "metadata": {
    "execution": {
     "iopub.execute_input": "2021-08-05T19:31:08.130255Z",
     "iopub.status.busy": "2021-08-05T19:31:08.129772Z",
     "iopub.status.idle": "2021-08-05T19:31:08.132159Z",
     "shell.execute_reply": "2021-08-05T19:31:08.131744Z"
    },
    "papermill": {
     "duration": 0.015193,
     "end_time": "2021-08-05T19:31:08.132266",
     "exception": false,
     "start_time": "2021-08-05T19:31:08.117073",
     "status": "completed"
    },
    "tags": []
   },
   "outputs": [],
   "source": [
    "def batch_it(l, n):\n",
    "    for i in range(0, len(l), n):\n",
    "        yield l[i:i + n]\n",
    "\n",
    "def update_layer(target_feature_layer, updates_feature_set):\n",
    "        \"\"\"\n",
    "        Push edits from SDF to hosted feature layer.\n",
    "        \"\"\"\n",
    "        # Chunk edits into lists of 500 items. Python API can only push so many updates; item sized based on bytes.\n",
    "        update_sets = list(batch_it(updates_feature_set.features, 25))\n",
    "        for edits in update_sets:\n",
    "            res = target_feature_layer.edit_features(adds=edits, rollback_on_failure=False)['addResults']\n",
    "            print(f\"Added {len([i for i in res if i['success']])} rows of {len(edits)}\")"
   ]
  },
  {
   "cell_type": "markdown",
   "metadata": {},
   "source": [
    "#### Check whether or not an output layer exists, perform the join, and write the outputs"
   ]
  },
  {
   "cell_type": "code",
   "execution_count": null,
   "metadata": {},
   "outputs": [],
   "source": [
    "# If the search resulted in more than one item being returned, we don't have a way to guess which\n",
    "# one we should be updating, so we'll just stop.\n",
    "if len(output_item_check) > 1:\n",
    "    print('Too many items were returned by the query.')\n",
    "    print('Ensure that only one item has both the title \"%s\" and the tag \"%s\"' % (output_item_title, output_item_tag))\n",
    "    print('Returned items')\n",
    "    for item in [output_item_check]: print(' - ', item.homepage)\n",
    "else:\n",
    "    # Conditionally defining the result output name controls the behavior of spatial join.\n",
    "    # - If there are no items in the list, result_output_name has a equal to output_item_title, and result will be a new Item\n",
    "    # - If there are items in the list, result_output_name is None, and result will be a FeatureCollection.\n",
    "    result_output_name = None if len(output_item_check) else output_item_title\n",
    "    result = features.summarize_data.join_features(target_layer = impact_layer,\n",
    "                                                   join_layer = monitor_layer,\n",
    "                                                   spatial_relationship = 'intersects',\n",
    "                                                   join_operation = 'JoinOneToMany',\n",
    "                                                   output_name = result_output_name)\n",
    "    if type(result) == Item:\n",
    "        print('Initial Result Published, adding tags')\n",
    "        result.update(item_properties={'tags': output_item_uniqueness_tag})\n",
    "        print('Tags added')\n",
    "    else: \n",
    "        print('Updating existing item')\n",
    "        output_item = output_item_check[0]\n",
    "        output_layer = output_item.layers[0]\n",
    "        output_layer.manager.truncate()\n",
    "        update_layer(output_layer, result.properties.featureSet)\n",
    "        print('Updates complete')\n",
    "print('See result at %s' % output_item.homepage)\n",
    "        "
   ]
  },
  {
   "cell_type": "code",
   "execution_count": null,
   "metadata": {},
   "outputs": [],
   "source": []
  }
 ],
 "metadata": {
  "celltoolbar": "Raw Cell Format",
  "esriNotebookRuntime": {
   "notebookRuntimeName": "ArcGIS Notebook Python 3 Standard",
   "notebookRuntimeVersion": "5.0"
  },
  "kernelspec": {
   "display_name": "Python 3",
   "language": "python",
   "name": "python3"
  },
  "language_info": {
   "codemirror_mode": {
    "name": "ipython",
    "version": 3
   },
   "file_extension": ".py",
   "mimetype": "text/x-python",
   "name": "python",
   "nbconvert_exporter": "python",
   "pygments_lexer": "ipython3",
   "version": "3.7.9"
  },
  "papermill": {
   "default_parameters": {},
   "duration": 22.168368,
   "end_time": "2021-08-05T19:31:09.797628",
   "environment_variables": {},
   "exception": null,
   "input_path": "/arcgis/home/.tasks/1d9e77405db543399969ca61d12fc130/b46db87956664133b064dae8a8cf81c6.ipynb",
   "output_path": "/arcgis/home/.tasks/1d9e77405db543399969ca61d12fc130/output.ipynb",
   "parameters": {},
   "start_time": "2021-08-05T19:30:47.62926",
   "version": "2.2.0"
  }
 },
 "nbformat": 4,
 "nbformat_minor": 2
}
