{
 "cells": [
  {
   "cell_type": "markdown",
   "metadata": {},
   "source": [
    "# Clone content from an ArcGIS Portal to the ArcGIS Platform\n"
   ]
  },
  {
   "cell_type": "markdown",
   "metadata": {},
   "source": [
    "Import required libraries"
   ]
  },
  {
   "cell_type": "code",
   "execution_count": null,
   "metadata": {},
   "outputs": [],
   "source": [
    "from arcgis.gis import GIS\n",
    "from getpass import getuser, getpass"
   ]
  },
  {
   "cell_type": "markdown",
   "metadata": {},
   "source": [
    "This example assumes you are running this notebook from within ArcGIS. If you are not running this notebook from within ArcGIS, refer to https://developers.arcgis.com/python/guide/working-with-different-authentication-schemes/ for example authentication patterns to connect to this_gis.\n",
    "\n",
    "When connecting to an ArcGIS Platform subscription, set the first paramater of GIS as https://www.arcgis.com."
   ]
  },
  {
   "cell_type": "code",
   "execution_count": null,
   "metadata": {},
   "outputs": [],
   "source": [
    "this_gis = GIS(\"home\") # Source GIS. The portal where content to copy to the ArcGIS Platform currently resides\n",
    "paas_gis = GIS(\"https://www.arcgis.com\", \"Organization_PaaS_User\") # A GIS representing your organization's ArcGIS Platform subscription. If no password is given, will prompt for password.\n",
    "(this_gis.url, paas_gis.url)"
   ]
  },
  {
   "cell_type": "markdown",
   "metadata": {},
   "source": [
    "Using the item id, get the webmap to copy"
   ]
  },
  {
   "cell_type": "code",
   "execution_count": null,
   "metadata": {},
   "outputs": [],
   "source": [
    "src_webmap_id = '31d9dd7fa4de41d6a1b28a88226a7181'\n",
    "src_webmap_item = this_gis.content.get(src_webmap_id)"
   ]
  },
  {
   "cell_type": "markdown",
   "metadata": {},
   "source": [
    "Copy the content in a web map to a Platform Web Map"
   ]
  },
  {
   "cell_type": "code",
   "execution_count": null,
   "metadata": {},
   "outputs": [],
   "source": [
    "paas_clone = paas_gis.content.clone_items(items=[src_webmap_item])\n",
    "paas_clone"
   ]
  }
 ],
 "metadata": {
  "esriNotebookRuntime": {
   "notebookRuntimeName": "ArcGIS Notebook Python 3 Standard",
   "notebookRuntimeVersion": "7.0"
  },
  "kernelspec": {
   "display_name": "Python 3 (ipykernel)",
   "language": "python",
   "name": "python3"
  },
  "language_info": {
   "codemirror_mode": {
    "name": "ipython",
    "version": 3
   },
   "file_extension": ".py",
   "mimetype": "text/x-python",
   "name": "python",
   "nbconvert_exporter": "python",
   "pygments_lexer": "ipython3",
   "version": "3.9.11"
  }
 },
 "nbformat": 4,
 "nbformat_minor": 2
}
